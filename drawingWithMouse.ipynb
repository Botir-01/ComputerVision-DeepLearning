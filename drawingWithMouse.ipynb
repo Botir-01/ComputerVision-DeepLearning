{
 "cells": [
  {
   "cell_type": "code",
   "execution_count": 2,
   "id": "b587ce5a-052b-4317-98cf-762ba3f143ea",
   "metadata": {},
   "outputs": [],
   "source": [
    "import cv2\n",
    "import numpy as np\n",
    "\n",
    "# Variables\n",
    "\n",
    "# True while mouse button down, False while mouse button UP\n",
    "drawing = False\n",
    "ix, iy = -1, -1\n",
    "\n",
    "# Function\n",
    "def draw_rectangle(event,x,y,flags,param):\n",
    "    global drawing, ix, iy\n",
    "    \n",
    "    if event == cv2.EVENT_LBUTTONDOWN:\n",
    "        drawing = True\n",
    "        ix, iy = x, y\n",
    "        \n",
    "    elif event == cv2.EVENT_MOUSEMOVE:\n",
    "        if drawing == True:\n",
    "            cv2.rectangle(image,(ix,iy),(x,y),(255,0,0),-1)\n",
    "    \n",
    "    elif event == cv2.EVENT_LBUTTONUP:\n",
    "        drawing = False\n",
    "        cv2.rectangle(image,(ix,iy),(x,y),(255,0,0),-1)\n",
    "        \n",
    "# Show an image\n",
    "image = np.zeros((512,512,3))\n",
    "\n",
    "cv2.namedWindow(winname='drawing')\n",
    "\n",
    "cv2.setMouseCallback('drawing', draw_rectangle)\n",
    "\n",
    "while True:\n",
    "    \n",
    "    cv2.imshow('drawing', image)\n",
    "    \n",
    "    if cv2.waitKey(1) & 0xFF == 27:\n",
    "        break\n",
    "\n",
    "cv2.destroyAllWindows()"
   ]
  },
  {
   "cell_type": "code",
   "execution_count": null,
   "id": "87365889-7783-4ce2-b177-dc1bff8cd18c",
   "metadata": {},
   "outputs": [],
   "source": []
  }
 ],
 "metadata": {
  "kernelspec": {
   "display_name": "Python 3",
   "language": "python",
   "name": "python3"
  },
  "language_info": {
   "codemirror_mode": {
    "name": "ipython",
    "version": 3
   },
   "file_extension": ".py",
   "mimetype": "text/x-python",
   "name": "python",
   "nbconvert_exporter": "python",
   "pygments_lexer": "ipython3",
   "version": "3.6.6"
  }
 },
 "nbformat": 4,
 "nbformat_minor": 5
}
